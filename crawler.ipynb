{
 "cells": [
  {
   "cell_type": "code",
   "execution_count": 34,
   "metadata": {
    "collapsed": true
   },
   "outputs": [],
   "source": [
    "from selenium import webdriver\n",
    "import urllib.request\n",
    "import os"
   ]
  },
  {
   "cell_type": "code",
   "execution_count": null,
   "metadata": {},
   "outputs": [
    {
     "name": "stdout",
     "output_type": "stream",
     "text": [
      "['서울', '부산', '인천', '대구', '대전', '광주', '수원', '울산', '창원', '고양', '용인', '성남', '부천', '청주', '안산', '전주', '천안', '남양주', '화성', '안양', '김해', '포항', '평택', '제주', '시흥', '의정부', '구미', '파주', '김포', '진주', '광명', '원주', '아산', '광주', '익산', '양산', '군포', '춘천', '경산', '군산', '여수', '순천', '경주', '거제', '목포', '강릉', '오산', '충주', '이천', '양주', '자치', '안성', '구리', '서산', '안동', '당진', '포천', '의왕', '하남', '자치', '광양', '김천', '통영', '제천', '논산', '공주', '사천', '정읍', '여주', '영주', '밀양', '보령', '상주', '영천', '동두천', '나주', '동해', '김제', '남원', '속초', '문경', '삼척', '과천', '태백', '계룡']\n"
     ]
    }
   ],
   "source": [
    "if not os.path.exists(\"images\"):\n",
    "    os.makedirs(\"images\")\n",
    "\n",
    "\n",
    "# 크롬드라이버 설치 필요\n",
    "# 참고 : http://www.kenst.com/2015/03/installing-chromedriver-on-mac-osx/ (macos)\n",
    "driver = webdriver.Chrome()\n",
    "\n",
    "# 우리나라 시 파일 읽어서 리스트에 저장\n",
    "f = open(\"cities.txt\", \"r\")\n",
    "cities = []\n",
    "while True:\n",
    "    line = f.readline()\n",
    "    if not line: break\n",
    "    cities.append(line.rstrip())\n",
    "f.close()\n",
    "\n",
    "print(cities)"
   ]
  },
  {
   "cell_type": "code",
   "execution_count": null,
   "metadata": {},
   "outputs": [
    {
     "name": "stdout",
     "output_type": "stream",
     "text": [
      "10\n",
      "saved : images/조윤선_서울_51.jpg\n",
      "saved : images/윤송이_서울_42.jpg\n",
      "saved : images/나경원_서울_54.jpg\n",
      "saved : images/권오현_서울_65.jpg\n",
      "saved : images/홍석현_서울_68.jpg\n",
      "saved : images/최도석_서울_68.jpg\n",
      "saved : images/강용석_서울_48.jpg\n",
      "saved : images/고동진_서울_56.jpg\n",
      "saved : images/김행_서울_58.jpg\n",
      "saved : images/최지현_서울_40.jpg\n",
      "10\n",
      "saved : images/채동욱_서울_58.jpg\n",
      "saved : images/정유성_서울_61.jpg\n",
      "saved : images/임수경_서울_56.jpg\n",
      "saved : images/이재현_서울_57.jpg\n",
      "saved : images/김택진_서울_50.jpg\n",
      "saved : images/조준형_서울_54.jpg\n",
      "saved : images/이근면_서울_65.jpg\n",
      "saved : images/이상주_서울_47.jpg\n",
      "saved : images/조수인_서울_60.jpg\n",
      "saved : images/김현종_서울_58.jpg\n",
      "10\n",
      "saved : images/박동건_서울_58.jpg\n",
      "saved : images/이상완_서울_67.jpg\n",
      "saved : images/노인식_서울_66.jpg\n",
      "saved : images/오세훈_서울_56.jpg\n",
      "saved : images/황교안_서울_60.jpg\n",
      "saved : images/정용진_서울_49.jpg\n",
      "saved : images/손석희_서울_61.jpg\n",
      "saved : images/윤석열_서울_57.jpg\n",
      "saved : images/김학의_서울_61.jpg\n",
      "saved : images/김상우_서울_56.jpg\n",
      "10\n",
      "saved : images/이정희_서울_48.jpg\n",
      "saved : images/강선희_서울_52.jpg\n",
      "saved : images/홍석준_서울_63.jpg\n",
      "saved : images/박현정_서울_55.jpg\n",
      "saved : images/홍석규_서울_61.jpg\n",
      "saved : images/이건혁_서울_54.jpg\n",
      "saved : images/주우식_서울_58.jpg\n",
      "saved : images/예지희_서울_52.jpg\n",
      "saved : images/김범수_서울_51.jpg\n"
     ]
    }
   ],
   "source": [
    "def typeCast(value):\n",
    "    try:\n",
    "        return int(value)\n",
    "    except ValueError:\n",
    "        return 0\n",
    "    \n",
    "# 각 도시별로 순회\n",
    "for city in cities:\n",
    "    # 페이지 몇갠지 확인\n",
    "    driver.get(\"http://people.joins.com/search/?nameh=&office=&org_a=&org_p=&job=&birth_place=\"+ city +\"&high=&uni=&graduate=&bsdt=&bedt=&pgi=1\")\n",
    "    resultNum = driver.find_element_by_class_name(\"result\")\n",
    "    resultNum = resultNum.find_element_by_tag_name(\"strong\")\n",
    "    resultNum = int(resultNum.text[:-2])\n",
    "    # 페이지 갯수\n",
    "    pageNum = resultNum // 10 + 1\n",
    "    for i in range(1, pageNum):\n",
    "        driver.get(\"http://people.joins.com/search/?nameh=&office=&org_a=&org_p=&job=&birth_place=\"+ city +\"&high=&uni=&graduate=&bsdt=&bedt=&pgi=\" + str(i))\n",
    "        personInfos = driver.find_element_by_class_name(\"img_listarea\")\n",
    "        personImages = personInfos.find_elements_by_tag_name(\"img\")\n",
    "        personInfos = personInfos.find_elements_by_tag_name(\"li\")\n",
    "        print(len(personImages))\n",
    "        for j in range(len(personImages)):\n",
    "            imageUrl = personImages[j].get_attribute(\"src\")\n",
    "            personBirth = personInfos[j].find_elements_by_tag_name(\"dd\")\n",
    "            personBirth = personBirth[0].find_element_by_tag_name(\"span\").text\n",
    "            \n",
    "            personAge = 2017 - typeCast(personBirth[:-1])\n",
    "            \n",
    "            personName = personImages[j].get_attribute(\"alt\")\n",
    "            # 이미지가 없으면 continue\n",
    "            if imageUrl == \"http://images.joins.com/people/people_2013/common/noimg_80_103_m.png\":\n",
    "                continue\n",
    "            # 이미지 저장\n",
    "            urllib.request.urlretrieve(imageUrl, \"images/\"+ personName + \"_\" + city + \"_\" + str(personAge) + \".jpg\")\n",
    "            \n",
    "#             서버에 이미지 저장\n",
    "            if j == 9:\n",
    "                systemCommand = \"scp images/*.jpg \"+ os.environ['SSH_USER'] + \"@\" + os.environ['SSH_IP'] +\":~/people_images\"\n",
    "                os.system(systemCommand)\n",
    "            \n",
    "            print(\"saved : images/\" + personName + \"_\" + city + \"_\" + str(personAge) + \".jpg\")"
   ]
  },
  {
   "cell_type": "code",
   "execution_count": null,
   "metadata": {
    "collapsed": true
   },
   "outputs": [],
   "source": []
  }
 ],
 "metadata": {
  "kernelspec": {
   "display_name": "Python [conda env:py36]",
   "language": "python",
   "name": "conda-env-py36-py"
  },
  "language_info": {
   "codemirror_mode": {
    "name": "ipython",
    "version": 3
   },
   "file_extension": ".py",
   "mimetype": "text/x-python",
   "name": "python",
   "nbconvert_exporter": "python",
   "pygments_lexer": "ipython3",
   "version": "3.6.2"
  }
 },
 "nbformat": 4,
 "nbformat_minor": 2
}
